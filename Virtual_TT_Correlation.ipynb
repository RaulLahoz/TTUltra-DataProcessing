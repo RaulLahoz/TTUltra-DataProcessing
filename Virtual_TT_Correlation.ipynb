{
 "cells": [
  {
   "cell_type": "code",
   "execution_count": 51,
   "metadata": {},
   "outputs": [],
   "source": [
    "from time import sleep\n",
    "import Pyro5.api \n",
    "import matplotlib.pyplot as plt\n",
    "from TimeTagger import *"
   ]
  },
  {
   "cell_type": "code",
   "execution_count": 52,
   "metadata": {},
   "outputs": [],
   "source": [
    "# Name of the file we want to read. \n",
    "# Remember, \"Measurement.ttbin\" files read all the files in sequence 'Measurement'\n",
    "file = \"Measurement.ttbin\""
   ]
  },
  {
   "cell_type": "code",
   "execution_count": 53,
   "metadata": {},
   "outputs": [
    {
     "name": "stdout",
     "output_type": "stream",
     "text": [
      "All channels available: (1, 2)\n",
      "Has data? -> True\n"
     ]
    }
   ],
   "source": [
    "fr = FileReader(file)\n",
    "print(\"All channels available: {}\".format(fr.getChannelList()))\n",
    "\n",
    "print(\"Has data? ->\", fr.hasData())\n",
    "# Returns: True if more data is available for reading, False if all data has been read from all the files specified in the class constructor."
   ]
  },
  {
   "cell_type": "code",
   "execution_count": 54,
   "metadata": {},
   "outputs": [
    {
     "name": "stdout",
     "output_type": "stream",
     "text": [
      "channel number scheme: 2\n",
      "configure version: 1\n",
      "current time: 2024-09-19 12:10:23 +0200\n",
      "devices: [{'FPGA ID': 11493476189726804, 'PCB UID': '00fdf287', 'PCB version': '1.8 (1)', 'minimum software version': '2.10.6', 'model': 'Time Tagger Ultra', 'serial': '2410001ABQ'}]\n",
      "firmware version: TT-Ultra, FW6, TS 2024-02-09 12:21:10, OK 1.46\n",
      "fpga link: {'enabled': False}\n",
      "hardware buffer size: 67108864\n",
      "inputs: [{'average rising falling': [False, False], 'channel': [1, -1], 'conditional filter filtered': [False, False], 'conditional filter triggers': [False, False], 'deadtime': [2000, 2000], 'delay hardware': [0, 0], 'delay software': [0, 0], 'event divider': [1, 1], 'hardware delay compensation': [333, 333], 'high priority channel': [False, False], 'input hysteresis': 0, 'input impedance high': False, 'input mux': 0, 'normalization': [True, True], 'resolution': 'Standard', 'resolution rms': 42.0, 'trigger level': 0.5}, {'average rising falling': [False, False], 'channel': [2, -2], 'conditional filter filtered': [False, False], 'conditional filter triggers': [False, False], 'deadtime': [2000, 2000], 'delay hardware': [0, 0], 'delay software': [0, 0], 'event divider': [1, 1], 'hardware delay compensation': [974, 974], 'high priority channel': [False, False], 'input hysteresis': 0, 'input impedance high': False, 'input mux': 0, 'normalization': [True, True], 'resolution': 'Standard', 'resolution rms': 42.0, 'trigger level': 0.5}, {'average rising falling': [False, False], 'channel': [3, -3], 'conditional filter filtered': [False, False], 'conditional filter triggers': [False, False], 'deadtime': [2000, 2000], 'delay hardware': [0, 0], 'delay software': [0, 0], 'event divider': [1, 1], 'hardware delay compensation': [1228, 1228], 'high priority channel': [False, False], 'input hysteresis': 0, 'input impedance high': False, 'input mux': 0, 'normalization': [True, True], 'resolution': 'Standard', 'resolution rms': 42.0, 'trigger level': 0.5}, {'average rising falling': [False, False], 'channel': [4, -4], 'conditional filter filtered': [False, False], 'conditional filter triggers': [False, False], 'deadtime': [2000, 2000], 'delay hardware': [0, 0], 'delay software': [0, 0], 'event divider': [1, 1], 'hardware delay compensation': [225, 225], 'high priority channel': [False, False], 'input hysteresis': 0, 'input impedance high': False, 'input mux': 0, 'normalization': [True, True], 'resolution': 'Standard', 'resolution rms': 42.0, 'trigger level': 0.5}]\n",
      "led bitmask: 0\n",
      "led disable: False\n",
      "measurements: []\n",
      "network: {'client count': 0, 'protocol version major': 3, 'protocol version minor': 1, 'server running': False, 'server runs': 0}\n",
      "registered channels: [1, 2]\n",
      "resolution: Standard\n",
      "serial: 2410001ABQ\n",
      "software clock: None\n",
      "software version: 2.17.4\n",
      "stream block size events: 131072\n",
      "stream block size latency: 20\n",
      "test signal divider: 126\n"
     ]
    }
   ],
   "source": [
    "# Now we are going to print all the configuration of the TT-Ultra at the moment of the measurement\n",
    "config = fr.getConfiguration()\n",
    "\n",
    "for key, value in config.items():\n",
    "    print(f\"{key}: {value}\")"
   ]
  },
  {
   "cell_type": "code",
   "execution_count": 55,
   "metadata": {},
   "outputs": [
    {
     "data": {
      "text/plain": [
       "{'configure version': 1,\n",
       " 'current time': '2024-09-19 12:10:38 +0200',\n",
       " 'hardware configuration': None,\n",
       " 'measurements': [],\n",
       " 'replay speed': -1.0,\n",
       " 'software clock': None,\n",
       " 'software version': '2.17.4',\n",
       " 'virtual inputs': []}"
      ]
     },
     "execution_count": 55,
     "metadata": {},
     "output_type": "execute_result"
    }
   ],
   "source": [
    "virtual_tagger = createTimeTaggerVirtual()\n",
    "virtual_tagger.getConfiguration()"
   ]
  },
  {
   "cell_type": "code",
   "execution_count": 57,
   "metadata": {},
   "outputs": [
    {
     "name": "stdout",
     "output_type": "stream",
     "text": [
      "\n",
      "Correlation measurement is running.\n",
      "\n",
      "Rate of counts channel 1 (counts/sec) : 225262.0\n",
      "Total counts channel 1 : 225262\n",
      "Rate of counts channel 2 (counts/sec) : 35262.0\n",
      "Total counts channel 2 : 35262\n"
     ]
    },
    {
     "data": {
      "image/png": "[encoded data removed]",
      "text/plain": [
       "<Figure size 640x480 with 1 Axes>"
      ]
     },
     "metadata": {},
     "output_type": "display_data"
    }
   ],
   "source": [
    "# measure photon antibunching\n",
    "corr_ch1 = 1 # first photon channel for antibunching measurements\n",
    "corr_ch2 = 2 # second photon channel for antibunching measurements\n",
    "bwcorr = 100 # 1 ns\n",
    "nbins = 1000\n",
    "\n",
    "corr = Correlation(virtual_tagger, corr_ch1, corr_ch2, bwcorr, nbins)\n",
    "cr = Countrate(virtual_tagger, [corr_ch1, corr_ch2])\n",
    "print(\"\\nCorrelation measurement is running.\\n\")\n",
    "\n",
    "\n",
    "virtual_tagger.setReplaySpeed(-1.0) # Speed of -1.0 will replay the data as fast as possible\n",
    "virtual_tagger.replay(file) # collect data until the end (20 sec)\n",
    "#virtual_tagger.replay(file, duration=10e11) # collect only 1 sec. of data (duration in picoseconds)\n",
    "virtual_tagger.waitForCompletion()\n",
    "\n",
    "# normalized correlation -> Photon Antibunching\n",
    "xcorr = corr.getIndex()\n",
    "#ycorr = corr.getDataNormalized()\n",
    "ycorr = corr.getData()\n",
    "\n",
    "print(f\"Rate of counts channel {corr_ch1} (counts/sec) : {cr.getData()[0]}\")\n",
    "print(f\"Total counts channel {corr_ch1} : {cr.getCountsTotal()[0]}\")\n",
    "print(f\"Rate of counts channel {corr_ch2} (counts/sec) : {cr.getData()[1]}\")\n",
    "print(f\"Total counts channel {corr_ch2} : {cr.getCountsTotal()[1]}\")\n",
    "\n",
    "plt.plot(xcorr, ycorr)\n",
    "plt.xlabel(r'Time ($\\tau$) in picoseconds')\n",
    "plt.show()"
   ]
  },
  {
   "cell_type": "markdown",
   "metadata": {},
   "source": [
    "### Post-analysis using .npz files"
   ]
  },
  {
   "cell_type": "code",
   "execution_count": 58,
   "metadata": {},
   "outputs": [],
   "source": [
    "import numpy as np\n",
    "\n",
    "data = np.load(\"hist.npz\")"
   ]
  },
  {
   "cell_type": "code",
   "execution_count": 61,
   "metadata": {},
   "outputs": [
    {
     "data": {
      "text/plain": [
       "array([-500000, -499000, -498000, -497000, -496000, -495000, -494000,\n",
       "       -493000, -492000, -491000, -490000, -489000, -488000, -487000,\n",
       "       -486000, -485000, -484000, -483000, -482000, -481000, -480000,\n",
       "       -479000, -478000, -477000, -476000, -475000, -474000, -473000,\n",
       "       -472000, -471000, -470000, -469000, -468000, -467000, -466000,\n",
       "       -465000, -464000, -463000, -462000, -461000, -460000, -459000,\n",
       "       -458000, -457000, -456000, -455000, -454000, -453000, -452000,\n",
       "       -451000, -450000, -449000, -448000, -447000, -446000, -445000,\n",
       "       -444000, -443000, -442000, -441000, -440000, -439000, -438000,\n",
       "       -437000, -436000, -435000, -434000, -433000, -432000, -431000,\n",
       "       -430000, -429000, -428000, -427000, -426000, -425000, -424000,\n",
       "       -423000, -422000, -421000, -420000, -419000, -418000, -417000,\n",
       "       -416000, -415000, -414000, -413000, -412000, -411000, -410000,\n",
       "       -409000, -408000, -407000, -406000, -405000, -404000, -403000,\n",
       "       -402000, -401000, -400000, -399000, -398000, -397000, -396000,\n",
       "       -395000, -394000, -393000, -392000, -391000, -390000, -389000,\n",
       "       -388000, -387000, -386000, -385000, -384000, -383000, -382000,\n",
       "       -381000, -380000, -379000, -378000, -377000, -376000, -375000,\n",
       "       -374000, -373000, -372000, -371000, -370000, -369000, -368000,\n",
       "       -367000, -366000, -365000, -364000, -363000, -362000, -361000,\n",
       "       -360000, -359000, -358000, -357000, -356000, -355000, -354000,\n",
       "       -353000, -352000, -351000, -350000, -349000, -348000, -347000,\n",
       "       -346000, -345000, -344000, -343000, -342000, -341000, -340000,\n",
       "       -339000, -338000, -337000, -336000, -335000, -334000, -333000,\n",
       "       -332000, -331000, -330000, -329000, -328000, -327000, -326000,\n",
       "       -325000, -324000, -323000, -322000, -321000, -320000, -319000,\n",
       "       -318000, -317000, -316000, -315000, -314000, -313000, -312000,\n",
       "       -311000, -310000, -309000, -308000, -307000, -306000, -305000,\n",
       "       -304000, -303000, -302000, -301000, -300000, -299000, -298000,\n",
       "       -297000, -296000, -295000, -294000, -293000, -292000, -291000,\n",
       "       -290000, -289000, -288000, -287000, -286000, -285000, -284000,\n",
       "       -283000, -282000, -281000, -280000, -279000, -278000, -277000,\n",
       "       -276000, -275000, -274000, -273000, -272000, -271000, -270000,\n",
       "       -269000, -268000, -267000, -266000, -265000, -264000, -263000,\n",
       "       -262000, -261000, -260000, -259000, -258000, -257000, -256000,\n",
       "       -255000, -254000, -253000, -252000, -251000, -250000, -249000,\n",
       "       -248000, -247000, -246000, -245000, -244000, -243000, -242000,\n",
       "       -241000, -240000, -239000, -238000, -237000, -236000, -235000,\n",
       "       -234000, -233000, -232000, -231000, -230000, -229000, -228000,\n",
       "       -227000, -226000, -225000, -224000, -223000, -222000, -221000,\n",
       "       -220000, -219000, -218000, -217000, -216000, -215000, -214000,\n",
       "       -213000, -212000, -211000, -210000, -209000, -208000, -207000,\n",
       "       -206000, -205000, -204000, -203000, -202000, -201000, -200000,\n",
       "       -199000, -198000, -197000, -196000, -195000, -194000, -193000,\n",
       "       -192000, -191000, -190000, -189000, -188000, -187000, -186000,\n",
       "       -185000, -184000, -183000, -182000, -181000, -180000, -179000,\n",
       "       -178000, -177000, -176000, -175000, -174000, -173000, -172000,\n",
       "       -171000, -170000, -169000, -168000, -167000, -166000, -165000,\n",
       "       -164000, -163000, -162000, -161000, -160000, -159000, -158000,\n",
       "       -157000, -156000, -155000, -154000, -153000, -152000, -151000,\n",
       "       -150000, -149000, -148000, -147000, -146000, -145000, -144000,\n",
       "       -143000, -142000, -141000, -140000, -139000, -138000, -137000,\n",
       "       -136000, -135000, -134000, -133000, -132000, -131000, -130000,\n",
       "       -129000, -128000, -127000, -126000, -125000, -124000, -123000,\n",
       "       -122000, -121000, -120000, -119000, -118000, -117000, -116000,\n",
       "       -115000, -114000, -113000, -112000, -111000, -110000, -109000,\n",
       "       -108000, -107000, -106000, -105000, -104000, -103000, -102000,\n",
       "       -101000, -100000,  -99000,  -98000,  -97000,  -96000,  -95000,\n",
       "        -94000,  -93000,  -92000,  -91000,  -90000,  -89000,  -88000,\n",
       "        -87000,  -86000,  -85000,  -84000,  -83000,  -82000,  -81000,\n",
       "        -80000,  -79000,  -78000,  -77000,  -76000,  -75000,  -74000,\n",
       "        -73000,  -72000,  -71000,  -70000,  -69000,  -68000,  -67000,\n",
       "        -66000,  -65000,  -64000,  -63000,  -62000,  -61000,  -60000,\n",
       "        -59000,  -58000,  -57000,  -56000,  -55000,  -54000,  -53000,\n",
       "        -52000,  -51000,  -50000,  -49000,  -48000,  -47000,  -46000,\n",
       "        -45000,  -44000,  -43000,  -42000,  -41000,  -40000,  -39000,\n",
       "        -38000,  -37000,  -36000,  -35000,  -34000,  -33000,  -32000,\n",
       "        -31000,  -30000,  -29000,  -28000,  -27000,  -26000,  -25000,\n",
       "        -24000,  -23000,  -22000,  -21000,  -20000,  -19000,  -18000,\n",
       "        -17000,  -16000,  -15000,  -14000,  -13000,  -12000,  -11000,\n",
       "        -10000,   -9000,   -8000,   -7000,   -6000,   -5000,   -4000,\n",
       "         -3000,   -2000,   -1000,       0,    1000,    2000,    3000,\n",
       "          4000,    5000,    6000,    7000,    8000,    9000,   10000,\n",
       "         11000,   12000,   13000,   14000,   15000,   16000,   17000,\n",
       "         18000,   19000,   20000,   21000,   22000,   23000,   24000,\n",
       "         25000,   26000,   27000,   28000,   29000,   30000,   31000,\n",
       "         32000,   33000,   34000,   35000,   36000,   37000,   38000,\n",
       "         39000,   40000,   41000,   42000,   43000,   44000,   45000,\n",
       "         46000,   47000,   48000,   49000,   50000,   51000,   52000,\n",
       "         53000,   54000,   55000,   56000,   57000,   58000,   59000,\n",
       "         60000,   61000,   62000,   63000,   64000,   65000,   66000,\n",
       "         67000,   68000,   69000,   70000,   71000,   72000,   73000,\n",
       "         74000,   75000,   76000,   77000,   78000,   79000,   80000,\n",
       "         81000,   82000,   83000,   84000,   85000,   86000,   87000,\n",
       "         88000,   89000,   90000,   91000,   92000,   93000,   94000,\n",
       "         95000,   96000,   97000,   98000,   99000,  100000,  101000,\n",
       "        102000,  103000,  104000,  105000,  106000,  107000,  108000,\n",
       "        109000,  110000,  111000,  112000,  113000,  114000,  115000,\n",
       "        116000,  117000,  118000,  119000,  120000,  121000,  122000,\n",
       "        123000,  124000,  125000,  126000,  127000,  128000,  129000,\n",
       "        130000,  131000,  132000,  133000,  134000,  135000,  136000,\n",
       "        137000,  138000,  139000,  140000,  141000,  142000,  143000,\n",
       "        144000,  145000,  146000,  147000,  148000,  149000,  150000,\n",
       "        151000,  152000,  153000,  154000,  155000,  156000,  157000,\n",
       "        158000,  159000,  160000,  161000,  162000,  163000,  164000,\n",
       "        165000,  166000,  167000,  168000,  169000,  170000,  171000,\n",
       "        172000,  173000,  174000,  175000,  176000,  177000,  178000,\n",
       "        179000,  180000,  181000,  182000,  183000,  184000,  185000,\n",
       "        186000,  187000,  188000,  189000,  190000,  191000,  192000,\n",
       "        193000,  194000,  195000,  196000,  197000,  198000,  199000,\n",
       "        200000,  201000,  202000,  203000,  204000,  205000,  206000,\n",
       "        207000,  208000,  209000,  210000,  211000,  212000,  213000,\n",
       "        214000,  215000,  216000,  217000,  218000,  219000,  220000,\n",
       "        221000,  222000,  223000,  224000,  225000,  226000,  227000,\n",
       "        228000,  229000,  230000,  231000,  232000,  233000,  234000,\n",
       "        235000,  236000,  237000,  238000,  239000,  240000,  241000,\n",
       "        242000,  243000,  244000,  245000,  246000,  247000,  248000,\n",
       "        249000,  250000,  251000,  252000,  253000,  254000,  255000,\n",
       "        256000,  257000,  258000,  259000,  260000,  261000,  262000,\n",
       "        263000,  264000,  265000,  266000,  267000,  268000,  269000,\n",
       "        270000,  271000,  272000,  273000,  274000,  275000,  276000,\n",
       "        277000,  278000,  279000,  280000,  281000,  282000,  283000,\n",
       "        284000,  285000,  286000,  287000,  288000,  289000,  290000,\n",
       "        291000,  292000,  293000,  294000,  295000,  296000,  297000,\n",
       "        298000,  299000,  300000,  301000,  302000,  303000,  304000,\n",
       "        305000,  306000,  307000,  308000,  309000,  310000,  311000,\n",
       "        312000,  313000,  314000,  315000,  316000,  317000,  318000,\n",
       "        319000,  320000,  321000,  322000,  323000,  324000,  325000,\n",
       "        326000,  327000,  328000,  329000,  330000,  331000,  332000,\n",
       "        333000,  334000,  335000,  336000,  337000,  338000,  339000,\n",
       "        340000,  341000,  342000,  343000,  344000,  345000,  346000,\n",
       "        347000,  348000,  349000,  350000,  351000,  352000,  353000,\n",
       "        354000,  355000,  356000,  357000,  358000,  359000,  360000,\n",
       "        361000,  362000,  363000,  364000,  365000,  366000,  367000,\n",
       "        368000,  369000,  370000,  371000,  372000,  373000,  374000,\n",
       "        375000,  376000,  377000,  378000,  379000,  380000,  381000,\n",
       "        382000,  383000,  384000,  385000,  386000,  387000,  388000,\n",
       "        389000,  390000,  391000,  392000,  393000,  394000,  395000,\n",
       "        396000,  397000,  398000,  399000,  400000,  401000,  402000,\n",
       "        403000,  404000,  405000,  406000,  407000,  408000,  409000,\n",
       "        410000,  411000,  412000,  413000,  414000,  415000,  416000,\n",
       "        417000,  418000,  419000,  420000,  421000,  422000,  423000,\n",
       "        424000,  425000,  426000,  427000,  428000,  429000,  430000,\n",
       "        431000,  432000,  433000,  434000,  435000,  436000,  437000,\n",
       "        438000,  439000,  440000,  441000,  442000,  443000,  444000,\n",
       "        445000,  446000,  447000,  448000,  449000,  450000,  451000,\n",
       "        452000,  453000,  454000,  455000,  456000,  457000,  458000,\n",
       "        459000,  460000,  461000,  462000,  463000,  464000,  465000,\n",
       "        466000,  467000,  468000,  469000,  470000,  471000,  472000,\n",
       "        473000,  474000,  475000,  476000,  477000,  478000,  479000,\n",
       "        480000,  481000,  482000,  483000,  484000,  485000,  486000,\n",
       "        487000,  488000,  489000,  490000,  491000,  492000,  493000,\n",
       "        494000,  495000,  496000,  497000,  498000,  499000])"
      ]
     },
     "execution_count": 61,
     "metadata": {},
     "output_type": "execute_result"
    }
   ],
   "source": [
    "xcorr = data[\"arr_0\"]\n",
    "ycorr = data[\"arr_1\"]"
   ]
  },
  {
   "cell_type": "code",
   "execution_count": null,
   "metadata": {},
   "outputs": [],
   "source": []
  }
 ],
 "metadata": {
  "kernelspec": {
   "display_name": "myenv",
   "language": "python",
   "name": "python3"
  },
  "language_info": {
   "codemirror_mode": {
    "name": "ipython",
    "version": 3
   },
   "file_extension": ".py",
   "mimetype": "text/x-python",
   "name": "python",
   "nbconvert_exporter": "python",
   "pygments_lexer": "ipython3",
   "version": "3.12.5"
  }
 },
 "nbformat": 4,
 "nbformat_minor": 2
}
