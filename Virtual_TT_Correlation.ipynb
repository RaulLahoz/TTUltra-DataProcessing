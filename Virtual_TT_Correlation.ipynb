{
 "cells": [
  {
   "cell_type": "code",
   "execution_count": 1,
   "metadata": {},
   "outputs": [],
   "source": [
    "from time import sleep\n",
    "import Pyro5.api \n",
    "import matplotlib.pyplot as plt\n",
    "from TimeTagger import *"
   ]
  },
  {
   "cell_type": "code",
   "execution_count": 2,
   "metadata": {},
   "outputs": [],
   "source": [
    "# Name of the file we want to read. \n",
    "# Remember, \"Measurement.ttbin\" files read all the files in sequence 'Measurement'\n",
    "file = \"TimeTags20sec_2024-09-18_165944.ttbin\""
   ]
  },
  {
   "cell_type": "code",
   "execution_count": 3,
   "metadata": {},
   "outputs": [
    {
     "name": "stdout",
     "output_type": "stream",
     "text": [
      "All channels available: (1, 2)\n",
      "Has data? -> True\n"
     ]
    }
   ],
   "source": [
    "fr = FileReader(file)\n",
    "print(\"All channels available: {}\".format(fr.getChannelList()))\n",
    "\n",
    "print(\"Has data? ->\", fr.hasData())\n",
    "# Returns: True if more data is available for reading, False if all data has been read from all the files specified in the class constructor."
   ]
  },
  {
   "cell_type": "code",
   "execution_count": 4,
   "metadata": {},
   "outputs": [
    {
     "name": "stdout",
     "output_type": "stream",
     "text": [
      "channel number scheme: 2\n",
      "configure version: 1\n",
      "current time: 2024-09-18 16:59:44 +0200\n",
      "devices: [{'FPGA ID': 11493476189726804, 'PCB UID': '00fdf287', 'PCB version': '1.8 (1)', 'minimum software version': '2.10.6', 'model': 'Time Tagger Ultra', 'serial': '2410001ABQ'}]\n",
      "firmware version: TT-Ultra, FW6, TS 2024-02-09 12:21:10, OK 1.46\n",
      "fpga link: {'enabled': False}\n",
      "hardware buffer size: 67108864\n",
      "inputs: [{'average rising falling': [False, False], 'channel': [1, -1], 'conditional filter filtered': [False, False], 'conditional filter triggers': [False, False], 'deadtime': [2000, 2000], 'delay hardware': [0, 0], 'delay software': [0, 0], 'event divider': [1, 1], 'hardware delay compensation': [333, 333], 'high priority channel': [False, False], 'input hysteresis': 0, 'input impedance high': False, 'input mux': 0, 'normalization': [True, True], 'resolution': 'Standard', 'resolution rms': 42.0, 'trigger level': 0.5}, {'average rising falling': [False, False], 'channel': [2, -2], 'conditional filter filtered': [False, False], 'conditional filter triggers': [False, False], 'deadtime': [2000, 2000], 'delay hardware': [0, 0], 'delay software': [0, 0], 'event divider': [1, 1], 'hardware delay compensation': [974, 974], 'high priority channel': [False, False], 'input hysteresis': 0, 'input impedance high': False, 'input mux': 0, 'normalization': [True, True], 'resolution': 'Standard', 'resolution rms': 42.0, 'trigger level': 0.5}, {'average rising falling': [False, False], 'channel': [3, -3], 'conditional filter filtered': [False, False], 'conditional filter triggers': [False, False], 'deadtime': [2000, 2000], 'delay hardware': [0, 0], 'delay software': [0, 0], 'event divider': [1, 1], 'hardware delay compensation': [1228, 1228], 'high priority channel': [False, False], 'input hysteresis': 0, 'input impedance high': False, 'input mux': 0, 'normalization': [True, True], 'resolution': 'Standard', 'resolution rms': 42.0, 'trigger level': 0.5}, {'average rising falling': [False, False], 'channel': [4, -4], 'conditional filter filtered': [False, False], 'conditional filter triggers': [False, False], 'deadtime': [2000, 2000], 'delay hardware': [0, 0], 'delay software': [0, 0], 'event divider': [1, 1], 'hardware delay compensation': [225, 225], 'high priority channel': [False, False], 'input hysteresis': 0, 'input impedance high': False, 'input mux': 0, 'normalization': [True, True], 'resolution': 'Standard', 'resolution rms': 42.0, 'trigger level': 0.5}]\n",
      "led bitmask: 0\n",
      "led disable: False\n",
      "measurements: [{'name': 'Countrate', 'params': {'channels': [1, 2, 3, 4]}, 'registered channels': [1, 2, 3, 4], 'virtual channels': []}, {'name': 'Countrate', 'params': {'channels': [1, 2, 3, 4]}, 'registered channels': [1, 2, 3, 4], 'virtual channels': []}, {'name': 'Countrate', 'params': {'channels': [1, 2, 3, 4]}, 'registered channels': [1, 2, 3, 4], 'virtual channels': []}, {'name': 'Countrate', 'params': {'channels': [1, 2, 3, 4]}, 'registered channels': [1, 2, 3, 4], 'virtual channels': []}, {'name': 'Countrate', 'params': {'channels': [1, 2, 3, 4]}, 'registered channels': [1, 2, 3, 4], 'virtual channels': []}, {'name': 'Countrate', 'params': {'channels': [1, 2, 3, 4]}, 'registered channels': [1, 2, 3, 4], 'virtual channels': []}, {'name': 'Countrate', 'params': {'channels': [1, 2, 3, 4]}, 'registered channels': [1, 2, 3, 4], 'virtual channels': []}, {'name': 'FileWriter', 'params': {'channels': [1, 2], 'filename': 'C:\\\\Users\\\\HP\\\\Downloads\\\\20240916_BellTest_TT\\\\TimeStamps\\\\TimeTags20sec_2024-09-18_165944.ttbin'}, 'registered channels': [1, 2], 'virtual channels': []}]\n",
      "network: {'client count': 0, 'protocol version major': 3, 'protocol version minor': 1, 'server running': False, 'server runs': 0}\n",
      "registered channels: [1, 2, 3, 4]\n",
      "resolution: Standard\n",
      "serial: 2410001ABQ\n",
      "software clock: None\n",
      "software version: 2.17.4\n",
      "stream block size events: 131072\n",
      "stream block size latency: 20\n",
      "test signal divider: 126\n"
     ]
    }
   ],
   "source": [
    "# Now we are going to print all the configuration of the TT-Ultra at the moment of the measurement\n",
    "config = fr.getConfiguration()\n",
    "\n",
    "for key, value in config.items():\n",
    "    print(f\"{key}: {value}\")"
   ]
  },
  {
   "cell_type": "code",
   "execution_count": 7,
   "metadata": {},
   "outputs": [
    {
     "data": {
      "text/plain": [
       "{'configure version': 1,\n",
       " 'current time': '2024-09-19 10:53:50 +0200',\n",
       " 'hardware configuration': None,\n",
       " 'measurements': [],\n",
       " 'replay speed': -1.0,\n",
       " 'software clock': None,\n",
       " 'software version': '2.17.4',\n",
       " 'virtual inputs': []}"
      ]
     },
     "execution_count": 7,
     "metadata": {},
     "output_type": "execute_result"
    }
   ],
   "source": [
    "virtual_tagger = createTimeTaggerVirtual()\n",
    "virtual_tagger.getConfiguration()"
   ]
  },
  {
   "cell_type": "code",
   "execution_count": 32,
   "metadata": {},
   "outputs": [
    {
     "name": "stdout",
     "output_type": "stream",
     "text": [
      "\n",
      "Correlation measurement is running.\n",
      "\n",
      "Rate of counts channel 1 (counts/sec) : 218428.75\n",
      "Total counts channel 1 : 4368575\n",
      "Rate of counts channel 2 (counts/sec) : 35298.5\n",
      "Total counts channel 2 : 705970\n"
     ]
    },
    {
     "data": {
      "image/png": "[encoded data removed]",
      "text/plain": [
       "<Figure size 640x480 with 1 Axes>"
      ]
     },
     "metadata": {},
     "output_type": "display_data"
    }
   ],
   "source": [
    "# measure photon antibunching\n",
    "corr_ch1 = 1 # first photon channel for antibunching measurements\n",
    "corr_ch2 = 2 # second photon channel for antibunching measurements\n",
    "bwcorr = 1000 # 1 ns\n",
    "nbins = 1000\n",
    "\n",
    "virtual_tagger.setReplaySpeed(-1.0) # Speed of -1.0 will replay the data as fast as possible\n",
    "\n",
    "corr = Correlation(virtual_tagger, corr_ch1, corr_ch2, bwcorr, nbins)\n",
    "cr = Countrate(virtual_tagger, [corr_ch1, corr_ch2])\n",
    "print(\"\\nCorrelation measurement is running.\\n\")\n",
    "\n",
    "\n",
    "virtual_tagger.replay(file) # collect data until the end (20 sec)\n",
    "#virtual_tagger.replay(file, duration=10e11) # collect only 1 sec. of data (duration in picoseconds)\n",
    "virtual_tagger.waitForCompletion()\n",
    "\n",
    "# normalized correlation -> Photon Antibunching\n",
    "xcorr = corr.getIndex()\n",
    "#ycorr = corr.getDataNormalized()\n",
    "ycorr = corr.getData()\n",
    "\n",
    "print(f\"Rate of counts channel {corr_ch1} (counts/sec) : {cr.getData()[0]}\")\n",
    "print(f\"Total counts channel {corr_ch1} : {cr.getCountsTotal()[0]}\")\n",
    "print(f\"Rate of counts channel {corr_ch2} (counts/sec) : {cr.getData()[1]}\")\n",
    "print(f\"Total counts channel {corr_ch2} : {cr.getCountsTotal()[1]}\")\n",
    "\n",
    "plt.plot(xcorr, ycorr)\n",
    "plt.xlabel(r'Time ($\\tau$) in picoseconds')\n",
    "plt.show()"
   ]
  }
 ],
 "metadata": {
  "kernelspec": {
   "display_name": "myenv",
   "language": "python",
   "name": "python3"
  },
  "language_info": {
   "codemirror_mode": {
    "name": "ipython",
    "version": 3
   },
   "file_extension": ".py",
   "mimetype": "text/x-python",
   "name": "python",
   "nbconvert_exporter": "python",
   "pygments_lexer": "ipython3",
   "version": "3.12.5"
  }
 },
 "nbformat": 4,
 "nbformat_minor": 2
}
