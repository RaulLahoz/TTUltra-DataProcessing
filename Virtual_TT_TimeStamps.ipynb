{
 "cells": [
  {
   "cell_type": "code",
   "execution_count": 48,
   "metadata": {},
   "outputs": [],
   "source": [
    "from time import sleep\n",
    "import Pyro5.api \n",
    "import matplotlib.pyplot as plt\n",
    "from TimeTagger import *\n",
    "import numpy as np\n",
    "import pandas as pd"
   ]
  },
  {
   "cell_type": "code",
   "execution_count": 49,
   "metadata": {},
   "outputs": [],
   "source": [
    "# Name of the file we want to read. \n",
    "# Remember, \"Measurement.ttbin\" files read all the files in sequence 'Measurement'\n",
    "file = \"C:/Users/HP/Downloads/TimeTags_RaulAir_2024-10-25_172331.ttbin\""
   ]
  },
  {
   "cell_type": "code",
   "execution_count": 50,
   "metadata": {},
   "outputs": [
    {
     "name": "stdout",
     "output_type": "stream",
     "text": [
      "All channels available: (1, 2)\n",
      "Has data? -> True\n"
     ]
    }
   ],
   "source": [
    "fr = FileReader(file)\n",
    "print(\"All channels available: {}\".format(fr.getChannelList()))\n",
    "\n",
    "print(\"Has data? ->\", fr.hasData())\n",
    "# Returns: True if more data is available for reading, False if all data has been read from all the files specified in the class constructor."
   ]
  },
  {
   "cell_type": "code",
   "execution_count": 51,
   "metadata": {},
   "outputs": [
    {
     "name": "stdout",
     "output_type": "stream",
     "text": [
      "channel number scheme: 2\n",
      "configure version: 1\n",
      "current time: 2024-10-25 17:23:31 +0200\n",
      "devices: [{'FPGA ID': 11493476189726804, 'PCB UID': '00fdf287', 'PCB version': '1.8 (1)', 'minimum software version': '2.10.6', 'model': 'Time Tagger Ultra', 'serial': '2410001ABQ'}]\n",
      "firmware version: TT-Ultra, FW6, TS 2024-02-09 12:21:10, OK 1.46\n",
      "fpga link: {'enabled': False}\n",
      "hardware buffer size: 67108864\n",
      "inputs: [{'average rising falling': [False, False], 'channel': [1, -1], 'conditional filter filtered': [False, False], 'conditional filter triggers': [False, False], 'deadtime': [2000, 2000], 'delay hardware': [0, 0], 'delay software': [0, 0], 'event divider': [1, 1], 'hardware delay compensation': [333, 333], 'high priority channel': [False, False], 'input hysteresis': 0, 'input impedance high': False, 'input mux': 0, 'normalization': [True, True], 'resolution': 'Standard', 'resolution rms': 42.0, 'trigger level': 0.5}, {'average rising falling': [False, False], 'channel': [2, -2], 'conditional filter filtered': [False, False], 'conditional filter triggers': [False, False], 'deadtime': [2000, 2000], 'delay hardware': [0, 0], 'delay software': [0, 0], 'event divider': [1, 1], 'hardware delay compensation': [974, 974], 'high priority channel': [False, False], 'input hysteresis': 0, 'input impedance high': False, 'input mux': 0, 'normalization': [True, True], 'resolution': 'Standard', 'resolution rms': 42.0, 'trigger level': 0.5}, {'average rising falling': [False, False], 'channel': [3, -3], 'conditional filter filtered': [False, False], 'conditional filter triggers': [False, False], 'deadtime': [2000, 2000], 'delay hardware': [0, 0], 'delay software': [0, 0], 'event divider': [1, 1], 'hardware delay compensation': [1228, 1228], 'high priority channel': [False, False], 'input hysteresis': 0, 'input impedance high': False, 'input mux': 0, 'normalization': [True, True], 'resolution': 'Standard', 'resolution rms': 42.0, 'trigger level': 0.5}, {'average rising falling': [False, False], 'channel': [4, -4], 'conditional filter filtered': [False, False], 'conditional filter triggers': [False, False], 'deadtime': [2000, 2000], 'delay hardware': [0, 0], 'delay software': [0, 0], 'event divider': [1, 1], 'hardware delay compensation': [225, 225], 'high priority channel': [False, False], 'input hysteresis': 0, 'input impedance high': False, 'input mux': 0, 'normalization': [True, True], 'resolution': 'Standard', 'resolution rms': 42.0, 'trigger level': 0.5}]\n",
      "led bitmask: 0\n",
      "led disable: True\n",
      "measurements: [{'name': 'Countrate', 'params': {'channels': [1, 2, 3, 4]}, 'registered channels': [1, 2, 3, 4], 'virtual channels': []}, {'name': 'Correlation', 'params': {'binwidth': 600, 'channel 1': 2, 'channel 2': 1, 'n bins': 600}, 'registered channels': [1, 2], 'virtual channels': []}, {'name': 'Counter', 'params': {'binwidth': 20000000000, 'channels': [1, 2], 'n values': 3000}, 'registered channels': [1, 2], 'virtual channels': []}, {'name': 'Correlation', 'params': {'binwidth': 1000, 'channel 1': 2, 'channel 2': 1, 'n bins': 1000}, 'registered channels': [1, 2], 'virtual channels': []}, {'name': 'Counter', 'params': {'binwidth': 20000000000, 'channels': [1, 2], 'n values': 3000}, 'registered channels': [1, 2], 'virtual channels': []}, {'name': 'Correlation', 'params': {'binwidth': 600, 'channel 1': 4, 'channel 2': 3, 'n bins': 600}, 'registered channels': [3, 4], 'virtual channels': []}, {'name': 'Counter', 'params': {'binwidth': 20000000000, 'channels': [3, 4], 'n values': 3000}, 'registered channels': [3, 4], 'virtual channels': []}, {'name': 'Correlation', 'params': {'binwidth': 1000, 'channel 1': 2, 'channel 2': 1, 'n bins': 1000}, 'registered channels': [1, 2], 'virtual channels': []}, {'name': 'Counter', 'params': {'binwidth': 20000000000, 'channels': [1, 2], 'n values': 3000}, 'registered channels': [1, 2], 'virtual channels': []}, {'name': 'Counter', 'params': {'binwidth': 50000000000, 'channels': [1, 2, 3, 4], 'n values': 400}, 'registered channels': [1, 2, 3, 4], 'virtual channels': []}, {'name': 'Correlation', 'params': {'binwidth': 1000, 'channel 1': 2, 'channel 2': 1, 'n bins': 200}, 'registered channels': [1, 2], 'virtual channels': []}, {'name': 'Counter', 'params': {'binwidth': 20000000000, 'channels': [1, 2], 'n values': 3000}, 'registered channels': [1, 2], 'virtual channels': []}, {'name': 'FileWriter', 'params': {'channels': [1, 2], 'filename': 'C:\\\\Users\\\\Lab 4\\\\Downloads\\\\QD_4\\\\TimeTags_RaulAir_2024-10-25_172331.ttbin'}, 'registered channels': [1, 2], 'virtual channels': []}]\n",
      "network: {'client count': 0, 'protocol version major': 3, 'protocol version minor': 1, 'server running': False, 'server runs': 0}\n",
      "registered channels: [1, 2, 3, 4]\n",
      "resolution: Standard\n",
      "serial: 2410001ABQ\n",
      "software clock: None\n",
      "software version: 2.17.4\n",
      "stream block size events: 131072\n",
      "stream block size latency: 20\n",
      "test signal divider: 126\n"
     ]
    }
   ],
   "source": [
    "# Now we are going to print all the configuration of the TT-Ultra at the moment of the measurement\n",
    "config = fr.getConfiguration()\n",
    "\n",
    "for key, value in config.items():\n",
    "    print(f\"{key}: {value}\")"
   ]
  },
  {
   "cell_type": "markdown",
   "metadata": {},
   "source": [
    "### Some useful code for obtaining the timestamps on each channel"
   ]
  },
  {
   "cell_type": "code",
   "execution_count": 52,
   "metadata": {},
   "outputs": [
    {
     "name": "stdout",
     "output_type": "stream",
     "text": [
      "True\n",
      "[87705500731037194 87705500765531323 87705500929747074 87705501037051308\n",
      " 87705501130994590 87705501156436446 87705501252597764 87705501261486571\n",
      " 87705501264997646 87705501329589781]\n",
      "[1 1 2 1 1 1 1 2 2 1]\n",
      "87705501426499534\n",
      "87705500631040000\n",
      "True\n",
      "[87705501426499534 87705501604217693 87705501661176310 87705501706948100]\n",
      "[1 1 2 2]\n",
      "[-36162992]\n"
     ]
    }
   ],
   "source": [
    "data = fr.getData(10)\n",
    "# Reads the next n_events and returns the buffer object with the specified number of timetags.\n",
    "print(fr.hasData())\n",
    "# Returns: True if more data is available for reading, False if all data has been read from all the files specified in the class constructor.\n",
    "\n",
    "print(data.getTimestamps())\n",
    "# Returns: Event timestamps in picoseconds for all chosen channels.\n",
    "print(data.getChannels())\n",
    "# Returns: Channel number for each detected event.\n",
    "\n",
    "print(data.tGetData)\n",
    "# Returns: The data-stream time position when the TimeTagStream or FileWriter started data acquisition.\n",
    "print(data.tStart)\n",
    "\n",
    "\n",
    "data = fr.getData(4)\n",
    "print(fr.hasData())\n",
    "print(data.getTimestamps())\n",
    "print(data.getChannels())\n",
    "\n",
    "print(fr.getData(1).getTimestamps()-fr.getData(1).getTimestamps())"
   ]
  },
  {
   "cell_type": "code",
   "execution_count": 53,
   "metadata": {},
   "outputs": [
    {
     "name": "stdout",
     "output_type": "stream",
     "text": [
      "Rate of counts channel 1 (counts/sec) : 8003.999108212611\n",
      "Rate of counts channel 2 (counts/sec) : 4305.408941877971\n"
     ]
    }
   ],
   "source": [
    "virtual_tagger = createTimeTaggerVirtual()\n",
    "virtual_tagger.getConfiguration()\n",
    "\n",
    "# measure photon antibunching\n",
    "corr_ch1 = 1 # first photon channel for antibunching measurements\n",
    "corr_ch2 = 2 # second photon channel for antibunching measurements\n",
    "bwcorr = 1000 # 1 ns\n",
    "nbins = 1000\n",
    "\n",
    "cr = Countrate(virtual_tagger, [corr_ch1, corr_ch2])\n",
    "\n",
    "virtual_tagger.setReplaySpeed(-1.0) # Speed of -1.0 will replay the data as fast as possible\n",
    "virtual_tagger.replay(file, begin = 0, duration = -1) # collect data until the end \n",
    "virtual_tagger.waitForCompletion()\n",
    "\n",
    "print(f\"Rate of counts channel {corr_ch1} (counts/sec) : {cr.getData()[0]}\")\n",
    "print(f\"Rate of counts channel {corr_ch2} (counts/sec) : {cr.getData()[1]}\")"
   ]
  }
 ],
 "metadata": {
  "kernelspec": {
   "display_name": "TTenv",
   "language": "python",
   "name": "python3"
  },
  "language_info": {
   "codemirror_mode": {
    "name": "ipython",
    "version": 3
   },
   "file_extension": ".py",
   "mimetype": "text/x-python",
   "name": "python",
   "nbconvert_exporter": "python",
   "pygments_lexer": "ipython3",
   "version": "3.12.5"
  }
 },
 "nbformat": 4,
 "nbformat_minor": 2
}
