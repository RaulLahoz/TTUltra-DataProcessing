{
 "cells": [
  {
   "cell_type": "code",
   "execution_count": 1,
   "metadata": {},
   "outputs": [],
   "source": [
    "from time import sleep\n",
    "import Pyro5.api \n",
    "import matplotlib.pyplot as plt\n",
    "from TimeTagger import *\n",
    "import numpy as np\n",
    "import pandas as pd"
   ]
  },
  {
   "cell_type": "code",
   "execution_count": 2,
   "metadata": {},
   "outputs": [],
   "source": [
    "# Name of the file we want to read. \n",
    "# Remember, \"Measurement.ttbin\" files read all the files in sequence 'Measurement'\n",
    "file = \"C:/Users/HP/Downloads/TimeTags_RaulAir_2024-10-25_172331.ttbin\""
   ]
  },
  {
   "cell_type": "code",
   "execution_count": 3,
   "metadata": {},
   "outputs": [
    {
     "name": "stdout",
     "output_type": "stream",
     "text": [
      "All channels available: (1, 2)\n",
      "Has data? -> True\n"
     ]
    }
   ],
   "source": [
    "fr = FileReader(file)\n",
    "print(\"All channels available: {}\".format(fr.getChannelList()))\n",
    "\n",
    "print(\"Has data? ->\", fr.hasData())\n",
    "# Returns: True if more data is available for reading, False if all data has been read from all the files specified in the class constructor."
   ]
  },
  {
   "cell_type": "code",
   "execution_count": 4,
   "metadata": {},
   "outputs": [
    {
     "name": "stdout",
     "output_type": "stream",
     "text": [
      "channel number scheme: 2\n",
      "configure version: 1\n",
      "current time: 2024-10-25 17:23:31 +0200\n",
      "devices: [{'FPGA ID': 11493476189726804, 'PCB UID': '00fdf287', 'PCB version': '1.8 (1)', 'minimum software version': '2.10.6', 'model': 'Time Tagger Ultra', 'serial': '2410001ABQ'}]\n",
      "firmware version: TT-Ultra, FW6, TS 2024-02-09 12:21:10, OK 1.46\n",
      "fpga link: {'enabled': False}\n",
      "hardware buffer size: 67108864\n",
      "inputs: [{'average rising falling': [False, False], 'channel': [1, -1], 'conditional filter filtered': [False, False], 'conditional filter triggers': [False, False], 'deadtime': [2000, 2000], 'delay hardware': [0, 0], 'delay software': [0, 0], 'event divider': [1, 1], 'hardware delay compensation': [333, 333], 'high priority channel': [False, False], 'input hysteresis': 0, 'input impedance high': False, 'input mux': 0, 'normalization': [True, True], 'resolution': 'Standard', 'resolution rms': 42.0, 'trigger level': 0.5}, {'average rising falling': [False, False], 'channel': [2, -2], 'conditional filter filtered': [False, False], 'conditional filter triggers': [False, False], 'deadtime': [2000, 2000], 'delay hardware': [0, 0], 'delay software': [0, 0], 'event divider': [1, 1], 'hardware delay compensation': [974, 974], 'high priority channel': [False, False], 'input hysteresis': 0, 'input impedance high': False, 'input mux': 0, 'normalization': [True, True], 'resolution': 'Standard', 'resolution rms': 42.0, 'trigger level': 0.5}, {'average rising falling': [False, False], 'channel': [3, -3], 'conditional filter filtered': [False, False], 'conditional filter triggers': [False, False], 'deadtime': [2000, 2000], 'delay hardware': [0, 0], 'delay software': [0, 0], 'event divider': [1, 1], 'hardware delay compensation': [1228, 1228], 'high priority channel': [False, False], 'input hysteresis': 0, 'input impedance high': False, 'input mux': 0, 'normalization': [True, True], 'resolution': 'Standard', 'resolution rms': 42.0, 'trigger level': 0.5}, {'average rising falling': [False, False], 'channel': [4, -4], 'conditional filter filtered': [False, False], 'conditional filter triggers': [False, False], 'deadtime': [2000, 2000], 'delay hardware': [0, 0], 'delay software': [0, 0], 'event divider': [1, 1], 'hardware delay compensation': [225, 225], 'high priority channel': [False, False], 'input hysteresis': 0, 'input impedance high': False, 'input mux': 0, 'normalization': [True, True], 'resolution': 'Standard', 'resolution rms': 42.0, 'trigger level': 0.5}]\n",
      "led bitmask: 0\n",
      "led disable: True\n",
      "measurements: [{'name': 'Countrate', 'params': {'channels': [1, 2, 3, 4]}, 'registered channels': [1, 2, 3, 4], 'virtual channels': []}, {'name': 'Correlation', 'params': {'binwidth': 600, 'channel 1': 2, 'channel 2': 1, 'n bins': 600}, 'registered channels': [1, 2], 'virtual channels': []}, {'name': 'Counter', 'params': {'binwidth': 20000000000, 'channels': [1, 2], 'n values': 3000}, 'registered channels': [1, 2], 'virtual channels': []}, {'name': 'Correlation', 'params': {'binwidth': 1000, 'channel 1': 2, 'channel 2': 1, 'n bins': 1000}, 'registered channels': [1, 2], 'virtual channels': []}, {'name': 'Counter', 'params': {'binwidth': 20000000000, 'channels': [1, 2], 'n values': 3000}, 'registered channels': [1, 2], 'virtual channels': []}, {'name': 'Correlation', 'params': {'binwidth': 600, 'channel 1': 4, 'channel 2': 3, 'n bins': 600}, 'registered channels': [3, 4], 'virtual channels': []}, {'name': 'Counter', 'params': {'binwidth': 20000000000, 'channels': [3, 4], 'n values': 3000}, 'registered channels': [3, 4], 'virtual channels': []}, {'name': 'Correlation', 'params': {'binwidth': 1000, 'channel 1': 2, 'channel 2': 1, 'n bins': 1000}, 'registered channels': [1, 2], 'virtual channels': []}, {'name': 'Counter', 'params': {'binwidth': 20000000000, 'channels': [1, 2], 'n values': 3000}, 'registered channels': [1, 2], 'virtual channels': []}, {'name': 'Counter', 'params': {'binwidth': 50000000000, 'channels': [1, 2, 3, 4], 'n values': 400}, 'registered channels': [1, 2, 3, 4], 'virtual channels': []}, {'name': 'Correlation', 'params': {'binwidth': 1000, 'channel 1': 2, 'channel 2': 1, 'n bins': 200}, 'registered channels': [1, 2], 'virtual channels': []}, {'name': 'Counter', 'params': {'binwidth': 20000000000, 'channels': [1, 2], 'n values': 3000}, 'registered channels': [1, 2], 'virtual channels': []}, {'name': 'FileWriter', 'params': {'channels': [1, 2], 'filename': 'C:\\\\Users\\\\Lab 4\\\\Downloads\\\\QD_4\\\\TimeTags_RaulAir_2024-10-25_172331.ttbin'}, 'registered channels': [1, 2], 'virtual channels': []}]\n",
      "network: {'client count': 0, 'protocol version major': 3, 'protocol version minor': 1, 'server running': False, 'server runs': 0}\n",
      "registered channels: [1, 2, 3, 4]\n",
      "resolution: Standard\n",
      "serial: 2410001ABQ\n",
      "software clock: None\n",
      "software version: 2.17.4\n",
      "stream block size events: 131072\n",
      "stream block size latency: 20\n",
      "test signal divider: 126\n"
     ]
    }
   ],
   "source": [
    "# Now we are going to print all the configuration of the TT-Ultra at the moment of the measurement\n",
    "config = fr.getConfiguration()\n",
    "\n",
    "for key, value in config.items():\n",
    "    print(f\"{key}: {value}\")"
   ]
  },
  {
   "cell_type": "markdown",
   "metadata": {},
   "source": [
    "### Some useful code for obtaining the timestamps on each channel"
   ]
  },
  {
   "cell_type": "code",
   "execution_count": 5,
   "metadata": {},
   "outputs": [
    {
     "name": "stdout",
     "output_type": "stream",
     "text": [
      "True\n",
      "[87705500731037194 87705500765531323 87705500929747074 87705501037051308\n",
      " 87705501130994590 87705501156436446 87705501252597764 87705501261486571\n",
      " 87705501264997646 87705501329589781]\n",
      "[1 1 2 1 1 1 1 2 2 1]\n",
      "87705501426499534\n",
      "87705500631040000\n",
      "True\n",
      "[87705501426499534 87705501604217693 87705501661176310 87705501706948100]\n",
      "[1 1 2 2]\n",
      "[-36162992]\n"
     ]
    }
   ],
   "source": [
    "data = fr.getData(10)\n",
    "# Reads the next n_events and returns the buffer object with the specified number of timetags.\n",
    "print(fr.hasData())\n",
    "# Returns: True if more data is available for reading, False if all data has been read from all the files specified in the class constructor.\n",
    "\n",
    "print(data.getTimestamps())\n",
    "# Returns: Event timestamps in picoseconds for all chosen channels.\n",
    "print(data.getChannels())\n",
    "# Returns: Channel number for each detected event.\n",
    "\n",
    "print(data.tGetData)\n",
    "# Returns: The data-stream time position when the TimeTagStream or FileWriter started data acquisition.\n",
    "print(data.tStart)\n",
    "\n",
    "\n",
    "data = fr.getData(4)\n",
    "print(fr.hasData())\n",
    "print(data.getTimestamps())\n",
    "print(data.getChannels())\n",
    "\n",
    "print(fr.getData(1).getTimestamps()-fr.getData(1).getTimestamps())"
   ]
  },
  {
   "cell_type": "code",
   "execution_count": 6,
   "metadata": {},
   "outputs": [
    {
     "name": "stdout",
     "output_type": "stream",
     "text": [
      "Rate of counts channel 1 (counts/sec) : 8003.999108212611\n",
      "Rate of counts channel 2 (counts/sec) : 4305.408941877971\n"
     ]
    }
   ],
   "source": [
    "virtual_tagger = createTimeTaggerVirtual()\n",
    "virtual_tagger.getConfiguration()\n",
    "\n",
    "# measure photon antibunching\n",
    "corr_ch1 = 1 # first photon channel for antibunching measurements\n",
    "corr_ch2 = 2 # second photon channel for antibunching measurements\n",
    "bwcorr = 1000 # 1 ns\n",
    "nbins = 1000\n",
    "\n",
    "cr = Countrate(virtual_tagger, [corr_ch1, corr_ch2])\n",
    "\n",
    "virtual_tagger.setReplaySpeed(-1.0) # Speed of -1.0 will replay the data as fast as possible\n",
    "virtual_tagger.replay(file, begin = 0, duration = -1) # collect data until the end \n",
    "virtual_tagger.waitForCompletion()\n",
    "\n",
    "print(f\"Rate of counts channel {corr_ch1} (counts/sec) : {cr.getData()[0]}\")\n",
    "print(f\"Rate of counts channel {corr_ch2} (counts/sec) : {cr.getData()[1]}\")"
   ]
  },
  {
   "cell_type": "code",
   "execution_count": 7,
   "metadata": {},
   "outputs": [
    {
     "name": "stdout",
     "output_type": "stream",
     "text": [
      "6.1547040250452905e-09 \n",
      "\n",
      "no guardem\n",
      "6.120433878184063e-09\n",
      "no guardem\n",
      "6.055434027894538e-09\n",
      "no guardem\n",
      "5.737506054844065e-09\n",
      "no guardem\n",
      "5.727176346449014e-09\n",
      "no guardem\n",
      "5.815465468733041e-09\n",
      "no guardem\n",
      "5.603001761676801e-09\n",
      "no guardem\n",
      "5.8994685533818726e-09\n",
      "no guardem\n",
      "5.887543421951142e-09\n",
      "no guardem\n",
      "5.779310779840916e-09\n",
      "no guardem\n",
      "5.1928876925083645e-09\n",
      "no guardem\n",
      "5.197760333850422e-09\n",
      "no guardem\n",
      "6.033948604231834e-09\n",
      "no guardem\n",
      "5.7502733177088215e-09\n",
      "no guardem\n",
      "5.493031054403625e-09\n",
      "no guardem\n",
      "6.14792717863474e-09\n",
      "no guardem\n",
      "5.289167882343123e-09\n",
      "no guardem\n",
      "5.7730495938606e-09\n",
      "no guardem\n",
      "5.246136689244987e-09\n",
      "no guardem\n",
      "5.298261914839582e-09\n",
      "no guardem\n",
      "5.81960790778198e-09\n",
      "no guardem\n",
      "5.55555699852198e-09\n",
      "no guardem\n",
      "4.73538547861332e-09\n",
      "no guardem\n",
      "4.784582413619381e-09\n",
      "no guardem\n",
      "6.043842061751175e-09\n",
      "no guardem\n",
      "6.039236075484224e-09\n",
      "no guardem\n",
      "5.601464865694292e-09\n",
      "no guardem\n",
      "6.109797381237569e-09\n",
      "no guardem\n",
      "5.789972263003321e-09\n",
      "no guardem\n",
      "5.3011868929125286e-09\n",
      "no guardem\n",
      "5.689088604510017e-09\n",
      "no guardem\n",
      "5.725400726157931e-09\n"
     ]
    }
   ],
   "source": [
    "fr = FileReader(file)\n",
    "\n",
    "acc_list = []\n",
    "n = 10000\n",
    "treshold = np.mean(cr.getData())*1e-12\n",
    "print(treshold, \"\\n\")\n",
    "t_ant = 0\n",
    "\n",
    "while (fr.hasData()):\n",
    "    data = fr.getData(n)\n",
    "    \n",
    "    ts = data.getTimestamps()\n",
    "    ch = data.getChannels()\n",
    "    \n",
    "    data_raw = np.array([ch, ts])\n",
    "    \n",
    "    # Restructure into columns (one for each channel)\n",
    "    data_ch1 = data_raw[1, np.where(data_raw[0,:] == 1)].copy() # Canal 1\n",
    "    data_ch2 = data_raw[1, np.where(data_raw[0,:] == 2)].copy() # Canal 2\n",
    "    \n",
    "    # Creating an empty array the size of the largest dataset\n",
    "    data_ch = np.zeros([2, max(data_ch1.shape[1], data_ch2.shape[1])])\n",
    "    \n",
    "    # Filling the channel columns with the respective data (one of them will always fall short)\n",
    "    data_ch[0, :data_ch1.shape[1]] += data_ch1[0]\n",
    "    data_ch[1, :data_ch2.shape[1]] += data_ch2[0]\n",
    "    \n",
    "    # Check we get all data\n",
    "    #print(data_ch1.size, data_ch2.size, data_ch1.size+data_ch2.size)\n",
    "    \n",
    "    delta_t = abs(ts[-1] - ts[0])\n",
    "    rate = n / delta_t\n",
    "    \n",
    "    if (rate > treshold):\n",
    "        acc_list.append(data_ch - t_ant)\n",
    "        # print(\"guardem\")\n",
    "    else:\n",
    "        t_ant += delta_t\n",
    "        print(\"no guardem\")\n",
    "        print(rate)"
   ]
  },
  {
   "cell_type": "markdown",
   "metadata": {},
   "source": [
    "## Convert back into numpy array"
   ]
  },
  {
   "cell_type": "code",
   "execution_count": 8,
   "metadata": {},
   "outputs": [],
   "source": [
    "total_len = sum(len(acc_list[i][0]) for i in range(len(acc_list)))\n",
    "acc = np.zeros([total_len, 2])\n",
    "index = 0\n",
    "\n",
    "for i in range(len(acc_list)):\n",
    "    for j in range(len(acc_list[i][0])):\n",
    "        acc[index,:] = [acc_list[i][0][j], acc_list[i][1][j]]\n",
    "        index += 1\n",
    "        \n",
    "df = pd.DataFrame(acc)"
   ]
  },
  {
   "cell_type": "code",
   "execution_count": 9,
   "metadata": {},
   "outputs": [
    {
     "data": {
      "text/html": [
       "<div>\n",
       "<style scoped>\n",
       "    .dataframe tbody tr th:only-of-type {\n",
       "        vertical-align: middle;\n",
       "    }\n",
       "\n",
       "    .dataframe tbody tr th {\n",
       "        vertical-align: top;\n",
       "    }\n",
       "\n",
       "    .dataframe thead th {\n",
       "        text-align: right;\n",
       "    }\n",
       "</style>\n",
       "<table border=\"1\" class=\"dataframe\">\n",
       "  <thead>\n",
       "    <tr style=\"text-align: right;\">\n",
       "      <th></th>\n",
       "      <th>0</th>\n",
       "      <th>1</th>\n",
       "    </tr>\n",
       "  </thead>\n",
       "  <tbody>\n",
       "    <tr>\n",
       "      <th>0</th>\n",
       "      <td>8.770550e+16</td>\n",
       "      <td>8.770550e+16</td>\n",
       "    </tr>\n",
       "    <tr>\n",
       "      <th>1</th>\n",
       "      <td>8.770550e+16</td>\n",
       "      <td>8.770550e+16</td>\n",
       "    </tr>\n",
       "    <tr>\n",
       "      <th>2</th>\n",
       "      <td>8.770550e+16</td>\n",
       "      <td>8.770550e+16</td>\n",
       "    </tr>\n",
       "    <tr>\n",
       "      <th>3</th>\n",
       "      <td>8.770550e+16</td>\n",
       "      <td>8.770550e+16</td>\n",
       "    </tr>\n",
       "    <tr>\n",
       "      <th>4</th>\n",
       "      <td>8.770550e+16</td>\n",
       "      <td>8.770550e+16</td>\n",
       "    </tr>\n",
       "    <tr>\n",
       "      <th>...</th>\n",
       "      <td>...</td>\n",
       "      <td>...</td>\n",
       "    </tr>\n",
       "    <tr>\n",
       "      <th>19160461</th>\n",
       "      <td>9.006890e+16</td>\n",
       "      <td>-5.508224e+13</td>\n",
       "    </tr>\n",
       "    <tr>\n",
       "      <th>19160462</th>\n",
       "      <td>9.006890e+16</td>\n",
       "      <td>-5.508224e+13</td>\n",
       "    </tr>\n",
       "    <tr>\n",
       "      <th>19160463</th>\n",
       "      <td>9.006890e+16</td>\n",
       "      <td>-5.508224e+13</td>\n",
       "    </tr>\n",
       "    <tr>\n",
       "      <th>19160464</th>\n",
       "      <td>9.006890e+16</td>\n",
       "      <td>-5.508224e+13</td>\n",
       "    </tr>\n",
       "    <tr>\n",
       "      <th>19160465</th>\n",
       "      <td>9.006890e+16</td>\n",
       "      <td>-5.508224e+13</td>\n",
       "    </tr>\n",
       "  </tbody>\n",
       "</table>\n",
       "<p>19160466 rows × 2 columns</p>\n",
       "</div>"
      ],
      "text/plain": [
       "                     0             1\n",
       "0         8.770550e+16  8.770550e+16\n",
       "1         8.770550e+16  8.770550e+16\n",
       "2         8.770550e+16  8.770550e+16\n",
       "3         8.770550e+16  8.770550e+16\n",
       "4         8.770550e+16  8.770550e+16\n",
       "...                ...           ...\n",
       "19160461  9.006890e+16 -5.508224e+13\n",
       "19160462  9.006890e+16 -5.508224e+13\n",
       "19160463  9.006890e+16 -5.508224e+13\n",
       "19160464  9.006890e+16 -5.508224e+13\n",
       "19160465  9.006890e+16 -5.508224e+13\n",
       "\n",
       "[19160466 rows x 2 columns]"
      ]
     },
     "execution_count": 9,
     "metadata": {},
     "output_type": "execute_result"
    }
   ],
   "source": [
    "df"
   ]
  },
  {
   "cell_type": "code",
   "execution_count": 34,
   "metadata": {},
   "outputs": [
    {
     "data": {
      "image/png": "[encoded data removed]",
      "text/plain": [
       "<Figure size 640x480 with 1 Axes>"
      ]
     },
     "metadata": {},
     "output_type": "display_data"
    }
   ],
   "source": [
    "# Variables de entrada\n",
    "bin_width = 1000      # Anchura del bin en picosegundos\n",
    "nbin = 1000          # Número total de bins\n",
    "\n",
    "# Rango máximo de delays a considerar\n",
    "max_delay = bin_width * nbin / 2\n",
    "\n",
    "# Extrae los tiempos de llegada de cada canal, ignorando ceros\n",
    "times_channel_0 = df[0].values\n",
    "times_channel_1 = df[1].values\n",
    "\n",
    "# Inicializa una lista para almacenar los delays\n",
    "delay_matrix = []\n",
    "\n",
    "# Iterar sobre eventos del canal 0, ignorando ceros\n",
    "for t0 in times_channel_0:\n",
    "    if t0 == 0:\n",
    "        continue  # Saltar eventos en canal 0 que son ceros\n",
    "    for t1 in times_channel_1:\n",
    "        if t1 == 0:\n",
    "            continue  # Saltar eventos en canal 1 que son ceros\n",
    "        \n",
    "        delay = t0 - t1\n",
    "\n",
    "        # Si el delay cae dentro del rango de bineado, guárdalo\n",
    "        if -max_delay <= delay <= max_delay:\n",
    "            print(\"Hola\")\n",
    "            delay_matrix.append(delay)\n",
    "        # Si el delay supera el máximo, termina la comparación con t1\n",
    "        elif delay > max_delay:\n",
    "            break\n",
    "\n",
    "# Convierte la lista de delays a un array de Numpy para optimizar operaciones\n",
    "delay_matrix = np.array(delay_matrix)\n",
    "\n",
    "# Define los bins para el histograma\n",
    "bins = np.arange(-max_delay, max_delay + bin_width, bin_width)\n",
    "\n",
    "# Graficar el histograma de delays\n",
    "plt.hist(delay_matrix, bins=bins, histtype='step')\n",
    "plt.xlabel(\"Delay (ps)\")\n",
    "plt.ylabel(\"Counts\")\n",
    "plt.title(\"Diagrama de delays entre eventos de canal 0 y canal 1\")\n",
    "plt.grid(True)\n",
    "plt.show()"
   ]
  }
 ],
 "metadata": {
  "kernelspec": {
   "display_name": "TTenv",
   "language": "python",
   "name": "python3"
  },
  "language_info": {
   "codemirror_mode": {
    "name": "ipython",
    "version": 3
   },
   "file_extension": ".py",
   "mimetype": "text/x-python",
   "name": "python",
   "nbconvert_exporter": "python",
   "pygments_lexer": "ipython3",
   "version": "3.12.5"
  }
 },
 "nbformat": 4,
 "nbformat_minor": 2
}
