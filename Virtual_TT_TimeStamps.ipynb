{
 "cells": [
  {
   "cell_type": "code",
   "execution_count": 6,
   "metadata": {},
   "outputs": [],
   "source": [
    "from time import sleep\n",
    "import Pyro5.api \n",
    "import matplotlib.pyplot as plt\n",
    "from TimeTagger import *"
   ]
  },
  {
   "cell_type": "code",
   "execution_count": 7,
   "metadata": {},
   "outputs": [],
   "source": [
    "# Name of the file we want to read. \n",
    "# Remember, \"Measurement.ttbin\" files read all the files in sequence 'Measurement'\n",
    "file = \"Measurement.ttbin\""
   ]
  },
  {
   "cell_type": "code",
   "execution_count": 8,
   "metadata": {},
   "outputs": [
    {
     "name": "stdout",
     "output_type": "stream",
     "text": [
      "All channels available: (1, 2)\n",
      "Has data? -> True\n"
     ]
    }
   ],
   "source": [
    "fr = FileReader(file)\n",
    "print(\"All channels available: {}\".format(fr.getChannelList()))\n",
    "\n",
    "print(\"Has data? ->\", fr.hasData())\n",
    "# Returns: True if more data is available for reading, False if all data has been read from all the files specified in the class constructor."
   ]
  },
  {
   "cell_type": "code",
   "execution_count": 9,
   "metadata": {},
   "outputs": [
    {
     "name": "stdout",
     "output_type": "stream",
     "text": [
      "channel number scheme: 2\n",
      "configure version: 1\n",
      "current time: 2024-09-19 11:57:14 +0200\n",
      "devices: [{'FPGA ID': 11493476189726804, 'PCB UID': '00fdf287', 'PCB version': '1.8 (1)', 'minimum software version': '2.10.6', 'model': 'Time Tagger Ultra', 'serial': '2410001ABQ'}]\n",
      "firmware version: TT-Ultra, FW6, TS 2024-02-09 12:21:10, OK 1.46\n",
      "fpga link: {'enabled': False}\n",
      "hardware buffer size: 67108864\n",
      "inputs: [{'average rising falling': [False, False], 'channel': [1, -1], 'conditional filter filtered': [False, False], 'conditional filter triggers': [False, False], 'deadtime': [2000, 2000], 'delay hardware': [0, 0], 'delay software': [0, 0], 'event divider': [1, 1], 'hardware delay compensation': [333, 333], 'high priority channel': [False, False], 'input hysteresis': 0, 'input impedance high': False, 'input mux': 0, 'normalization': [True, True], 'resolution': 'Standard', 'resolution rms': 42.0, 'trigger level': 0.5}, {'average rising falling': [False, False], 'channel': [2, -2], 'conditional filter filtered': [False, False], 'conditional filter triggers': [False, False], 'deadtime': [2000, 2000], 'delay hardware': [0, 0], 'delay software': [0, 0], 'event divider': [1, 1], 'hardware delay compensation': [974, 974], 'high priority channel': [False, False], 'input hysteresis': 0, 'input impedance high': False, 'input mux': 0, 'normalization': [True, True], 'resolution': 'Standard', 'resolution rms': 42.0, 'trigger level': 0.5}, {'average rising falling': [False, False], 'channel': [3, -3], 'conditional filter filtered': [False, False], 'conditional filter triggers': [False, False], 'deadtime': [2000, 2000], 'delay hardware': [0, 0], 'delay software': [0, 0], 'event divider': [1, 1], 'hardware delay compensation': [1228, 1228], 'high priority channel': [False, False], 'input hysteresis': 0, 'input impedance high': False, 'input mux': 0, 'normalization': [True, True], 'resolution': 'Standard', 'resolution rms': 42.0, 'trigger level': 0.5}, {'average rising falling': [False, False], 'channel': [4, -4], 'conditional filter filtered': [False, False], 'conditional filter triggers': [False, False], 'deadtime': [2000, 2000], 'delay hardware': [0, 0], 'delay software': [0, 0], 'event divider': [1, 1], 'hardware delay compensation': [225, 225], 'high priority channel': [False, False], 'input hysteresis': 0, 'input impedance high': False, 'input mux': 0, 'normalization': [True, True], 'resolution': 'Standard', 'resolution rms': 42.0, 'trigger level': 0.5}]\n",
      "led bitmask: 0\n",
      "led disable: False\n",
      "measurements: []\n",
      "network: {'client count': 0, 'protocol version major': 3, 'protocol version minor': 1, 'server running': False, 'server runs': 0}\n",
      "registered channels: [1, 2]\n",
      "resolution: Standard\n",
      "serial: 2410001ABQ\n",
      "software clock: None\n",
      "software version: 2.17.4\n",
      "stream block size events: 131072\n",
      "stream block size latency: 20\n",
      "test signal divider: 126\n"
     ]
    }
   ],
   "source": [
    "# Now we are going to print all the configuration of the TT-Ultra at the moment of the measurement\n",
    "config = fr.getConfiguration()\n",
    "\n",
    "for key, value in config.items():\n",
    "    print(f\"{key}: {value}\")"
   ]
  },
  {
   "cell_type": "markdown",
   "metadata": {},
   "source": [
    "### Some useful code for obtaining the timestamps on each channel"
   ]
  },
  {
   "cell_type": "code",
   "execution_count": 10,
   "metadata": {},
   "outputs": [
    {
     "name": "stdout",
     "output_type": "stream",
     "text": [
      "True\n",
      "[123491014370 123502096876 123515543010 123516205922]\n",
      "[1 1 2 2]\n",
      "123516486063\n",
      "123486208000\n",
      "True\n",
      "[123516486063 123520281890 123522707650 123524903322]\n"
     ]
    }
   ],
   "source": [
    "data = fr.getData(4)\n",
    "# Reads the next n_events and returns the buffer object with the specified number of timetags.\n",
    "print(fr.hasData())\n",
    "# Returns: True if more data is available for reading, False if all data has been read from all the files specified in the class constructor.\n",
    "\n",
    "print(data.getTimestamps())\n",
    "# Returns: Event timestamps in picoseconds for all chosen channels.\n",
    "print(data.getChannels())\n",
    "# Returns: Channel number for each detected event.\n",
    "\n",
    "print(data.tGetData)\n",
    "# Returns: The data-stream time position when the TimeTagStream or FileWriter started data acquisition.\n",
    "print(data.tStart)\n",
    "\n",
    "\n",
    "data = fr.getData(4)\n",
    "print(fr.hasData())\n",
    "print(data.getTimestamps())"
   ]
  },
  {
   "cell_type": "code",
   "execution_count": null,
   "metadata": {},
   "outputs": [],
   "source": []
  }
 ],
 "metadata": {
  "kernelspec": {
   "display_name": "TTenv",
   "language": "python",
   "name": "python3"
  },
  "language_info": {
   "codemirror_mode": {
    "name": "ipython",
    "version": 3
   },
   "file_extension": ".py",
   "mimetype": "text/x-python",
   "name": "python",
   "nbconvert_exporter": "python",
   "pygments_lexer": "ipython3",
   "version": "3.12.5"
  }
 },
 "nbformat": 4,
 "nbformat_minor": 2
}
